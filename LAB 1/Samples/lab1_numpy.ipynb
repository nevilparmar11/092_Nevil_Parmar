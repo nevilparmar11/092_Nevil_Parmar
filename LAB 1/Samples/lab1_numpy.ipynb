{
  "nbformat": 4,
  "nbformat_minor": 0,
  "metadata": {
    "colab": {
      "name": "lab1-numpy.ipynb",
      "provenance": []
    },
    "kernelspec": {
      "name": "python3",
      "display_name": "Python 3"
    },
    "language_info": {
      "name": "python"
    }
  },
  "cells": [
    {
      "cell_type": "code",
      "metadata": {
        "id": "9bQeVg9sAyZe"
      },
      "source": [
        "import numpy as np"
      ],
      "execution_count": 1,
      "outputs": []
    },
    {
      "cell_type": "code",
      "metadata": {
        "id": "Bb_0kQhlBiz0"
      },
      "source": [
        "alist = [1, 2, 3, 4, 5] # Define a python list. It looks like an np array\n",
        "narray = np.array([1, 2, 3, 4]) # Define a numpy array"
      ],
      "execution_count": 2,
      "outputs": []
    },
    {
      "cell_type": "code",
      "metadata": {
        "colab": {
          "base_uri": "https://localhost:8080/"
        },
        "id": "HumM4pPgBkTD",
        "outputId": "fee52892-c67a-434d-db15-1511bd471a6f"
      },
      "source": [
        "print(alist)\n",
        "print(narray)\n",
        "print(type(alist))\n",
        "print(type(narray))"
      ],
      "execution_count": 3,
      "outputs": [
        {
          "output_type": "stream",
          "text": [
            "[1, 2, 3, 4, 5]\n",
            "[1 2 3 4]\n",
            "<class 'list'>\n",
            "<class 'numpy.ndarray'>\n"
          ],
          "name": "stdout"
        }
      ]
    },
    {
      "cell_type": "code",
      "metadata": {
        "colab": {
          "base_uri": "https://localhost:8080/"
        },
        "id": "D27_aDzBBmTs",
        "outputId": "886f3ea7-336b-4340-cae8-3a0e984b126d"
      },
      "source": [
        "print(narray + narray)\n",
        "print(alist + alist) "
      ],
      "execution_count": 4,
      "outputs": [
        {
          "output_type": "stream",
          "text": [
            "[2 4 6 8]\n",
            "[1, 2, 3, 4, 5, 1, 2, 3, 4, 5]\n"
          ],
          "name": "stdout"
        }
      ]
    },
    {
      "cell_type": "code",
      "metadata": {
        "colab": {
          "base_uri": "https://localhost:8080/"
        },
        "id": "4aLAuHCHBoFd",
        "outputId": "8644c8b0-323c-494e-a898-07fcc3f76ed3"
      },
      "source": [
        "print(narray * 3)\n",
        "print(alist * 3)"
      ],
      "execution_count": 5,
      "outputs": [
        {
          "output_type": "stream",
          "text": [
            "[ 3  6  9 12]\n",
            "[1, 2, 3, 4, 5, 1, 2, 3, 4, 5, 1, 2, 3, 4, 5]\n"
          ],
          "name": "stdout"
        }
      ]
    },
    {
      "cell_type": "code",
      "metadata": {
        "colab": {
          "base_uri": "https://localhost:8080/"
        },
        "id": "_y-wekH0BrjD",
        "outputId": "49b923af-a6fb-43a4-c316-57a06736da9a"
      },
      "source": [
        "npmatrix1 = np.array([narray, narray, narray]) # Matrix initialized with NumPy arrays\n",
        "npmatrix2 = np.array([alist, alist, alist]) # Matrix initialized with lists\n",
        "npmatrix3 = np.array([narray, [1, 1, 1, 1], narray]) # Matrix initialized with both types\n",
        "print(npmatrix1)\n",
        "print(npmatrix2)\n",
        "print(npmatrix3)"
      ],
      "execution_count": 6,
      "outputs": [
        {
          "output_type": "stream",
          "text": [
            "[[1 2 3 4]\n",
            " [1 2 3 4]\n",
            " [1 2 3 4]]\n",
            "[[1 2 3 4 5]\n",
            " [1 2 3 4 5]\n",
            " [1 2 3 4 5]]\n",
            "[[1 2 3 4]\n",
            " [1 1 1 1]\n",
            " [1 2 3 4]]\n"
          ],
          "name": "stdout"
        }
      ]
    },
    {
      "cell_type": "code",
      "metadata": {
        "colab": {
          "base_uri": "https://localhost:8080/"
        },
        "id": "mVDRigMiBwLS",
        "outputId": "f2514878-dafb-4a51-f068-97bf7a593199"
      },
      "source": [
        "# Example 1:\n",
        "okmatrix = np.array([[1, 2], [3, 4]]) # Define a 2x2 matrix\n",
        "print(okmatrix) # Print okmatrix\n",
        "print(okmatrix * 2) # Print a scaled version of okmatrix"
      ],
      "execution_count": 7,
      "outputs": [
        {
          "output_type": "stream",
          "text": [
            "[[1 2]\n",
            " [3 4]]\n",
            "[[2 4]\n",
            " [6 8]]\n"
          ],
          "name": "stdout"
        }
      ]
    },
    {
      "cell_type": "code",
      "metadata": {
        "colab": {
          "base_uri": "https://localhost:8080/"
        },
        "id": "6dY4AhsFB0sT",
        "outputId": "3935afc0-e689-4782-9646-02a825aa375a"
      },
      "source": [
        "# Example 2:\n",
        "badmatrix = np.array([[1, 2], [3, 4], [5, 6, 7]]) # Define a matrix. Note the third row contains 3 elements\n",
        "print(badmatrix) # Print the malformed matrix\n",
        "print(badmatrix * 2) # It is supposed to scale the whole matrix"
      ],
      "execution_count": 9,
      "outputs": [
        {
          "output_type": "stream",
          "text": [
            "[list([1, 2]) list([3, 4]) list([5, 6, 7])]\n",
            "[list([1, 2, 1, 2]) list([3, 4, 3, 4]) list([5, 6, 7, 5, 6, 7])]\n"
          ],
          "name": "stdout"
        },
        {
          "output_type": "stream",
          "text": [
            "/usr/local/lib/python3.7/dist-packages/ipykernel_launcher.py:2: VisibleDeprecationWarning: Creating an ndarray from ragged nested sequences (which is a list-or-tuple of lists-or-tuples-or ndarrays with different lengths or shapes) is deprecated. If you meant to do this, you must specify 'dtype=object' when creating the ndarray\n",
            "  \n"
          ],
          "name": "stderr"
        }
      ]
    },
    {
      "cell_type": "code",
      "metadata": {
        "colab": {
          "base_uri": "https://localhost:8080/"
        },
        "id": "9c3iddhfB3Gi",
        "outputId": "170f060d-0ed4-4ca9-92cc-1069ea61ecee"
      },
      "source": [
        "# Scale by 2 and translate 1 unit the matrix\n",
        "result = okmatrix * 2 + 1 # For each element in the matrix, multiply by 2 and add 1\n",
        "print(result)"
      ],
      "execution_count": 10,
      "outputs": [
        {
          "output_type": "stream",
          "text": [
            "[[3 5]\n",
            " [7 9]]\n"
          ],
          "name": "stdout"
        }
      ]
    },
    {
      "cell_type": "code",
      "metadata": {
        "colab": {
          "base_uri": "https://localhost:8080/"
        },
        "id": "aSSUU8bUB6Ny",
        "outputId": "06adb8c8-1608-4980-fa93-598def171297"
      },
      "source": [
        "# Add two sum compatible matrices\n",
        "result1 = okmatrix + okmatrix\n",
        "print(result1)\n",
        "# Subtract two sum compatible matrices. This is called the difference vector\n",
        "result2 = okmatrix - okmatrix\n",
        "print(result2)"
      ],
      "execution_count": 11,
      "outputs": [
        {
          "output_type": "stream",
          "text": [
            "[[2 4]\n",
            " [6 8]]\n",
            "[[0 0]\n",
            " [0 0]]\n"
          ],
          "name": "stdout"
        }
      ]
    },
    {
      "cell_type": "code",
      "metadata": {
        "colab": {
          "base_uri": "https://localhost:8080/"
        },
        "id": "0KAeJvzjB8WK",
        "outputId": "fe8f094b-2ec1-4604-b620-5b0fbc879786"
      },
      "source": [
        "result = okmatrix * okmatrix # Multiply each element by itself\n",
        "print(result)"
      ],
      "execution_count": 12,
      "outputs": [
        {
          "output_type": "stream",
          "text": [
            "[[ 1  4]\n",
            " [ 9 16]]\n"
          ],
          "name": "stdout"
        }
      ]
    },
    {
      "cell_type": "code",
      "metadata": {
        "colab": {
          "base_uri": "https://localhost:8080/"
        },
        "id": "gJSvIDAiB-u6",
        "outputId": "8e986858-3d58-4475-a841-e4dacbf58366"
      },
      "source": [
        "matrix3x2 = np.array([[1, 2], [3, 4], [5, 6]]) # Define a 3x2 matrix\n",
        "print('Original matrix 3 x 2')\n",
        "print(matrix3x2)\n",
        "print('Transposed matrix 2 x 3')\n",
        "print(matrix3x2.T)"
      ],
      "execution_count": 13,
      "outputs": [
        {
          "output_type": "stream",
          "text": [
            "Original matrix 3 x 2\n",
            "[[1 2]\n",
            " [3 4]\n",
            " [5 6]]\n",
            "Transposed matrix 2 x 3\n",
            "[[1 3 5]\n",
            " [2 4 6]]\n"
          ],
          "name": "stdout"
        }
      ]
    },
    {
      "cell_type": "code",
      "metadata": {
        "colab": {
          "base_uri": "https://localhost:8080/"
        },
        "id": "yspz9dR-CAnT",
        "outputId": "0fb42c77-cf0b-44a7-877d-b98be8d24877"
      },
      "source": [
        "nparray = np.array([1, 2, 3, 4]) # Define an array\n",
        "print('Original array')\n",
        "print(nparray)\n",
        "print('Transposed array')\n",
        "print(nparray.T)"
      ],
      "execution_count": 14,
      "outputs": [
        {
          "output_type": "stream",
          "text": [
            "Original array\n",
            "[1 2 3 4]\n",
            "Transposed array\n",
            "[1 2 3 4]\n"
          ],
          "name": "stdout"
        }
      ]
    },
    {
      "cell_type": "code",
      "metadata": {
        "colab": {
          "base_uri": "https://localhost:8080/"
        },
        "id": "r_ZiND_rCDKC",
        "outputId": "68660e51-d80d-458f-f217-fba6868b61b4"
      },
      "source": [
        "nparray = np.array([[1, 2, 3, 4]]) # Define a 1 x 4 matrix. Note the 2 level of square brackets\n",
        "print('Original array')\n",
        "print(nparray)\n",
        "print('Transposed array')\n",
        "print(nparray.T)"
      ],
      "execution_count": 15,
      "outputs": [
        {
          "output_type": "stream",
          "text": [
            "Original array\n",
            "[[1 2 3 4]]\n",
            "Transposed array\n",
            "[[1]\n",
            " [2]\n",
            " [3]\n",
            " [4]]\n"
          ],
          "name": "stdout"
        }
      ]
    },
    {
      "cell_type": "code",
      "metadata": {
        "colab": {
          "base_uri": "https://localhost:8080/"
        },
        "id": "JFVRIIc2CG0M",
        "outputId": "9e99a6bd-ce97-450e-fb62-d38a8b414c48"
      },
      "source": [
        "nparray1 = np.array([1, 2, 3, 4]) # Define an array\n",
        "norm1 = np.linalg.norm(nparray1)\n",
        "nparray2 = np.array([[1, 2], [3, 4]]) # Define a 2 x 2 matrix. Note the 2 level of square brackets\n",
        "norm2 = np.linalg.norm(nparray2)\n",
        "print(norm1)\n",
        "print(norm2)"
      ],
      "execution_count": 17,
      "outputs": [
        {
          "output_type": "stream",
          "text": [
            "5.477225575051661\n",
            "5.477225575051661\n"
          ],
          "name": "stdout"
        }
      ]
    },
    {
      "cell_type": "code",
      "metadata": {
        "colab": {
          "base_uri": "https://localhost:8080/"
        },
        "id": "FxHBYNQ0CIvz",
        "outputId": "4a256dbb-d738-48f1-e073-77ae33aa97ca"
      },
      "source": [
        "nparray2 = np.array([[1, 1], [2, 2], [3, 3]]) # Define a 3 x 2 matrix.\n",
        "normByCols = np.linalg.norm(nparray2, axis=0) # Get the norm for each column. Returns 2 elements\n",
        "normByRows = np.linalg.norm(nparray2, axis=1) # get the norm for each row. Returns 3 elements\n",
        "print(normByCols)\n",
        "print(normByRows)"
      ],
      "execution_count": 18,
      "outputs": [
        {
          "output_type": "stream",
          "text": [
            "[3.74165739 3.74165739]\n",
            "[1.41421356 2.82842712 4.24264069]\n"
          ],
          "name": "stdout"
        }
      ]
    },
    {
      "cell_type": "code",
      "metadata": {
        "colab": {
          "base_uri": "https://localhost:8080/"
        },
        "id": "bSkqEABLCNsC",
        "outputId": "3a98325f-7ff8-4a8e-ad61-c73280303571"
      },
      "source": [
        "nparray1 = np.array([0, 1, 2, 3]) # Define an array\n",
        "nparray2 = np.array([4, 5, 6, 7]) # Define an array\n",
        "flavor1 = np.dot(nparray1, nparray2) # Way-1\n",
        "print(flavor1)\n",
        "flavor2 = np.sum(nparray1 * nparray2) # Way-2\n",
        "print(flavor2)\n",
        "flavor3 = nparray1 @ nparray2 # Way-3\n",
        "print(flavor3)\n",
        "# As you never should do: #Way-4\n",
        "flavor4 = 0\n",
        "for a, b in zip(nparray1, nparray2):\n",
        "  flavor4 += a * b\n",
        "print(flavor4)"
      ],
      "execution_count": 20,
      "outputs": [
        {
          "output_type": "stream",
          "text": [
            "38\n",
            "38\n",
            "38\n",
            "38\n"
          ],
          "name": "stdout"
        }
      ]
    },
    {
      "cell_type": "code",
      "metadata": {
        "colab": {
          "base_uri": "https://localhost:8080/"
        },
        "id": "skXQNXceCP8b",
        "outputId": "16798ada-a278-473d-d40a-b80a0ae96df6"
      },
      "source": [
        "norm1 = np.dot(np.array([1, 2]), np.array([3, 4])) # Dot product on nparrays\n",
        "norm2 = np.dot([1, 2], [3, 4]) # Dot product on python lists\n",
        "print(norm1, '=', norm2 )"
      ],
      "execution_count": 21,
      "outputs": [
        {
          "output_type": "stream",
          "text": [
            "11 = 11\n"
          ],
          "name": "stdout"
        }
      ]
    },
    {
      "cell_type": "code",
      "metadata": {
        "colab": {
          "base_uri": "https://localhost:8080/"
        },
        "id": "R2Np4DyvCSSK",
        "outputId": "624e54a2-e508-45ec-aaad-cb1e9a3d378c"
      },
      "source": [
        "nparray2 = np.array([[1, -1], [2, -2], [3, -3]]) # Define a 3 x 2 matrix.\n",
        "sumByCols = np.sum(nparray2, axis=0) # Get the sum for each column. Returns 2 elements\n",
        "sumByRows = np.sum(nparray2, axis=1) # get the sum for each row. Returns 3 elements\n",
        "print('Sum by columns: ')\n",
        "print(sumByCols)\n",
        "print('Sum by rows:')\n",
        "print(sumByRows)"
      ],
      "execution_count": 22,
      "outputs": [
        {
          "output_type": "stream",
          "text": [
            "Sum by columns: \n",
            "[ 6 -6]\n",
            "Sum by rows:\n",
            "[0 0 0]\n"
          ],
          "name": "stdout"
        }
      ]
    },
    {
      "cell_type": "code",
      "metadata": {
        "colab": {
          "base_uri": "https://localhost:8080/"
        },
        "id": "UP3hDhdUCUQa",
        "outputId": "127da5fb-b288-4e81-afe7-3c9b7a1a36e8"
      },
      "source": [
        "nparray2 = np.array([[1, -1], [2, -2], [3, -3]]) # Define a 3 x 2 matrix. Chosen to be a matrix with 0 mean\n",
        "mean = np.mean(nparray2) # Get the mean for the whole matrix\n",
        "meanByCols = np.mean(nparray2, axis=0) # Get the mean for each column. Returns 2 elements\n",
        "meanByRows = np.mean(nparray2, axis=1) # get the mean for each row. Returns 3 elements\n",
        "print('Matrix mean: ')\n",
        "print(mean)\n",
        "print('Mean by columns: ')\n",
        "print(meanByCols)\n",
        "print('Mean by rows:')\n",
        "print(meanByRows)"
      ],
      "execution_count": 24,
      "outputs": [
        {
          "output_type": "stream",
          "text": [
            "Matrix mean: \n",
            "0.0\n",
            "Mean by columns: \n",
            "[ 2. -2.]\n",
            "Mean by rows:\n",
            "[0. 0. 0.]\n"
          ],
          "name": "stdout"
        }
      ]
    },
    {
      "cell_type": "code",
      "metadata": {
        "colab": {
          "base_uri": "https://localhost:8080/"
        },
        "id": "tySL8FLSCXTS",
        "outputId": "9aa37415-a3ae-4a40-93a6-5a14f97c5185"
      },
      "source": [
        "nparray2 = np.array([[1, 1], [2, 2], [3, 3]]) # Define a 3 x 2 matrix.\n",
        "nparrayCentered = nparray2 - np.mean(nparray2, axis=0) # Remove the mean for each column\n",
        "print('Original matrix')\n",
        "print(nparray2)\n",
        "print('Centered by columns matrix')\n",
        "print(nparrayCentered)\n",
        "\n",
        "print('New mean by column')\n",
        "print(nparrayCentered.mean(axis=0))"
      ],
      "execution_count": 25,
      "outputs": [
        {
          "output_type": "stream",
          "text": [
            "Original matrix\n",
            "[[1 1]\n",
            " [2 2]\n",
            " [3 3]]\n",
            "Centered by columns matrix\n",
            "[[-1. -1.]\n",
            " [ 0.  0.]\n",
            " [ 1.  1.]]\n",
            "New mean by column\n",
            "[0. 0.]\n"
          ],
          "name": "stdout"
        }
      ]
    },
    {
      "cell_type": "code",
      "metadata": {
        "colab": {
          "base_uri": "https://localhost:8080/"
        },
        "id": "t5c1pbssCix6",
        "outputId": "a97ac410-8beb-44d2-900b-4cf713205da1"
      },
      "source": [
        "nparray2 = np.array([[1, 3], [2, 4], [3, 5]]) # Define a 3 x 2 matrix.\n",
        "nparrayCentered = nparray2.T - np.mean(nparray2, axis=1) # Remove the mean for each row\n",
        "nparrayCentered = nparrayCentered.T # Transpose back the result\n",
        "print('Original matrix')\n",
        "print(nparray2)\n",
        "print('Centered by columns matrix')\n",
        "print(nparrayCentered)\n",
        "print('New mean by rows')\n",
        "print(nparrayCentered.mean(axis=1))"
      ],
      "execution_count": 26,
      "outputs": [
        {
          "output_type": "stream",
          "text": [
            "Original matrix\n",
            "[[1 3]\n",
            " [2 4]\n",
            " [3 5]]\n",
            "Centered by columns matrix\n",
            "[[-1.  1.]\n",
            " [-1.  1.]\n",
            " [-1.  1.]]\n",
            "New mean by rows\n",
            "[0. 0. 0.]\n"
          ],
          "name": "stdout"
        }
      ]
    }
  ]
}