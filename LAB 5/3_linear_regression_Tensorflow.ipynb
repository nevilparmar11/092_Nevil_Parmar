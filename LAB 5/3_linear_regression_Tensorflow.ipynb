{
  "nbformat": 4,
  "nbformat_minor": 0,
  "metadata": {
    "kernelspec": {
      "display_name": "Python 3",
      "language": "python",
      "name": "python3"
    },
    "language_info": {
      "name": "python",
      "version": "3.6.6",
      "mimetype": "text/x-python",
      "codemirror_mode": {
        "name": "ipython",
        "version": 3
      },
      "pygments_lexer": "ipython3",
      "nbconvert_exporter": "python",
      "file_extension": ".py"
    },
    "colab": {
      "name": "3_linear_regression_Tensorflow.ipynb",
      "provenance": [],
      "collapsed_sections": []
    }
  },
  "cells": [
    {
      "cell_type": "code",
      "metadata": {
        "_cell_guid": "79c7e3d0-c299-4dcb-8224-4455121ee9b0",
        "_uuid": "d629ff2d2480ee46fbb7e2d37f6b5fab8052498a",
        "trusted": true,
        "id": "v0BtAX1--7l_"
      },
      "source": [
        "# Import Numpy\n",
        "import numpy as np\n",
        "import pandas as pd \n",
        "import tensorflow as tf\n",
        "import matplotlib.pyplot as plt\n",
        "import seaborn as sns\n",
        "\n",
        "from tensorflow import keras\n",
        "from tensorflow.keras import layers\n",
        "from tensorflow.keras.layers.experimental import preprocessing\n",
        "from sklearn.preprocessing import Normalizer\n",
        "import sklearn.preprocessing"
      ],
      "execution_count": 1,
      "outputs": []
    },
    {
      "cell_type": "markdown",
      "metadata": {
        "_uuid": "ecc6e79cdfb6a8ca882895ccc895b61b960b0a04",
        "id": "i1HSrBDb-7t9"
      },
      "source": [
        "## Linear Regression Model using TensorFlow"
      ]
    },
    {
      "cell_type": "code",
      "metadata": {
        "trusted": true,
        "_uuid": "74bb18bd01ac809079eeb8d05695206e8ba02069",
        "id": "wCsxgTWO-7uM"
      },
      "source": [
        "# Input (temp, rainfall, humidity)\n",
        "inputs = np.array([[73, 67, 43], [91, 88, 64], [87, 134, 58], [102, 43, 37], [69, 96, 70], [73, 67, 43], [91, 88, 64], [87, 134, 58], [102, 43, 37], [69, 96, 70], [73, 67, 43], [91, 88, 64], [87, 134, 58], [102, 43, 37], [69, 96, 70]], dtype='float32')\n",
        "# Targets (apples)\n",
        "targets = np.array([[56], [81], [119], [22], [103], \n",
        "                    [56], [81], [119], [22], [103], \n",
        "                    [56], [81], [119], [22], [103]], dtype='float32')\n",
        "n = len(inputs) # Number of data points"
      ],
      "execution_count": 2,
      "outputs": []
    },
    {
      "cell_type": "code",
      "metadata": {
        "id": "PG5sep_RgD0M"
      },
      "source": [
        "from sklearn.model_selection import train_test_split\n",
        "main_data = pd.DataFrame(inputs, columns = ['temp','rainfall','humidity'])\n",
        "Y_rows = pd.DataFrame(targets, columns = ['apples'])\n",
        "\n",
        "X_train, X_test, Y_train, Y_test = train_test_split(main_data, Y_rows, test_size = 0.30, random_state = 92)"
      ],
      "execution_count": 3,
      "outputs": []
    },
    {
      "cell_type": "code",
      "metadata": {
        "trusted": true,
        "_uuid": "32588a47d0478772a1f08fa55874a322630bd0b6",
        "id": "c3Bf-Emn-7wj"
      },
      "source": [
        "test_results = {}"
      ],
      "execution_count": 4,
      "outputs": []
    },
    {
      "cell_type": "code",
      "metadata": {
        "colab": {
          "base_uri": "https://localhost:8080/"
        },
        "id": "awiCJB7HcLA1",
        "outputId": "e872171a-c034-48b8-c5f2-90a71b8ffa54"
      },
      "source": [
        "norm_X_test = np.linalg.norm(X_test['rainfall'])\n",
        "norm_X_train = np.linalg.norm(X_train['rainfall'])\n",
        "# norm_Y_test = np.linalg.norm(Y_test['rainfall'])\n",
        "norm_Y_train = np.linalg.norm(Y_train['apples'])\n",
        "\n",
        "normal_array_X_test = X_test['rainfall']/norm_X_test\n",
        "normal_array_X_train = X_train['rainfall']/norm_X_train\n",
        "normal_array_Y_train = Y_train['apples']/norm_Y_train\n",
        "\n",
        "print(normal_array_X_train)\n",
        "print(normal_array_X_test)\n",
        "print(normal_array_Y_train)"
      ],
      "execution_count": 5,
      "outputs": [
        {
          "output_type": "stream",
          "name": "stdout",
          "text": [
            "0     0.233253\n",
            "8     0.149700\n",
            "4     0.334213\n",
            "1     0.306362\n",
            "7     0.466505\n",
            "6     0.306362\n",
            "2     0.466505\n",
            "3     0.149700\n",
            "14    0.334213\n",
            "10    0.233253\n",
            "Name: rainfall, dtype: float32\n",
            "13    0.211707\n",
            "9     0.472648\n",
            "11    0.433261\n",
            "5     0.329869\n",
            "12    0.659738\n",
            "Name: rainfall, dtype: float32\n",
            "0     0.211808\n",
            "8     0.083210\n",
            "4     0.389576\n",
            "1     0.306366\n",
            "7     0.450093\n",
            "6     0.306366\n",
            "2     0.450093\n",
            "3     0.083210\n",
            "14    0.389576\n",
            "10    0.211808\n",
            "Name: apples, dtype: float32\n"
          ]
        }
      ]
    },
    {
      "cell_type": "code",
      "metadata": {
        "colab": {
          "base_uri": "https://localhost:8080/"
        },
        "id": "elqW70N3cRK5",
        "outputId": "f2b5998e-8e98-482e-ba5a-2aaa7309f4b4"
      },
      "source": [
        "normalizer = preprocessing.Normalization(axis = -1)\n",
        "normalizer.adapt(np.array(X_train))\n",
        "linear_model = tf.keras.Sequential([\n",
        "    normalizer,\n",
        "    layers.Dense(units = 1)\n",
        "])\n",
        "print(linear_model.predict(X_train[:9]))"
      ],
      "execution_count": 6,
      "outputs": [
        {
          "output_type": "stream",
          "name": "stdout",
          "text": [
            "[[ 1.2691395 ]\n",
            " [-1.0625566 ]\n",
            " [ 0.01079423]\n",
            " [-1.2880706 ]\n",
            " [ 1.0706952 ]\n",
            " [-1.2880706 ]\n",
            " [ 1.0706952 ]\n",
            " [-1.0625566 ]\n",
            " [ 0.01079423]]\n"
          ]
        }
      ]
    },
    {
      "cell_type": "code",
      "metadata": {
        "id": "_Tkgvs6McZ2z"
      },
      "source": [
        " linear_model.compile(\n",
        "    optimizer=tf.optimizers.Adam(learning_rate = 0.1),\n",
        "    loss='mean_absolute_error')"
      ],
      "execution_count": 7,
      "outputs": []
    },
    {
      "cell_type": "code",
      "metadata": {
        "id": "nYa71iCLcb0Q"
      },
      "source": [
        "history = linear_model.fit(\n",
        "    X_train, Y_train, \n",
        "    epochs = 1000,\n",
        "    # suppress logging\n",
        "    verbose=0,\n",
        "    # Calculate validation results on 20% of the training data\n",
        "    validation_split = 0.2)"
      ],
      "execution_count": 8,
      "outputs": []
    },
    {
      "cell_type": "code",
      "metadata": {
        "colab": {
          "base_uri": "https://localhost:8080/"
        },
        "id": "93urpITjceBU",
        "outputId": "e3cac884-8fe1-43b2-8149-06ed3ea5ed14"
      },
      "source": [
        "test_results['linear_model'] = linear_model.evaluate(\n",
        "    X_test, Y_test, verbose = 0)\n",
        "\n",
        "test_results['linear_model']"
      ],
      "execution_count": 9,
      "outputs": [
        {
          "output_type": "execute_result",
          "data": {
            "text/plain": [
              "5.748869895935059"
            ]
          },
          "metadata": {},
          "execution_count": 9
        }
      ]
    }
  ]
}