{
  "nbformat": 4,
  "nbformat_minor": 5,
  "metadata": {
    "kernelspec": {
      "display_name": "Python 3 (ipykernel)",
      "language": "python",
      "name": "python3"
    },
    "language_info": {
      "codemirror_mode": {
        "name": "ipython",
        "version": 3
      },
      "file_extension": ".py",
      "mimetype": "text/x-python",
      "name": "python",
      "nbconvert_exporter": "python",
      "pygments_lexer": "ipython3",
      "version": "3.9.7"
    },
    "colab": {
      "name": "1_linear_regression.ipynb",
      "provenance": []
    }
  },
  "cells": [
    {
      "cell_type": "markdown",
      "metadata": {
        "id": "view-in-github"
      },
      "source": [
        "<a href=\"https://colab.research.google.com/github/joshi-nitant/083_Nitant_Joshi/blob/master/Lab5/083_1_linear_regression.ipynb\" target=\"_parent\"><img src=\"https://colab.research.google.com/assets/colab-badge.svg\" alt=\"Open In Colab\"/></a>"
      ],
      "id": "view-in-github"
    },
    {
      "cell_type": "code",
      "metadata": {
        "id": "9b80e658"
      },
      "source": [
        "import numpy as np\n",
        "import torch"
      ],
      "id": "9b80e658",
      "execution_count": 1,
      "outputs": []
    },
    {
      "cell_type": "markdown",
      "metadata": {
        "id": "9fc82e14"
      },
      "source": [
        "A tensor is a number, vector, matrix or any n-dimensional array."
      ],
      "id": "9fc82e14"
    },
    {
      "cell_type": "markdown",
      "metadata": {
        "id": "55824f82"
      },
      "source": [
        "## Problem Statement"
      ],
      "id": "55824f82"
    },
    {
      "cell_type": "markdown",
      "metadata": {
        "id": "23132f63"
      },
      "source": [
        "We'll create a model that predicts crop yeilds for apples (*target variable*) by looking at the average temperature, rainfall and humidity (*input variables or features*) in different regions. \n",
        "\n",
        "Here's the training data:\n",
        "\n",
        ">Temp | Rain | Humidity | Prediction\n",
        ">--- | --- | --- | ---\n",
        "> 73 | 67 | 43 | 56\n",
        "> 91 | 88 | 64 | 81\n",
        "> 87 | 134 | 58 | 119\n",
        "> 102 | 43 | 37 | 22\n",
        "> 69 | 96 | 70 | 103\n",
        "\n",
        "In a **linear regression** model, each target variable is estimated to be a weighted sum of the input variables, offset by some constant, known as a bias :\n",
        "\n",
        "```\n",
        "yeild_apple  = w11 * temp + w12 * rainfall + w13 * humidity + b1\n",
        "```\n",
        "\n",
        "It means that the yield of apples is a linear or planar function of the temperature, rainfall & humidity.\n",
        "\n",
        "\n",
        "\n",
        "**Our objective**: Find a suitable set of *weights* and *biases* using the training data, to make accurate predictions."
      ],
      "id": "23132f63"
    },
    {
      "cell_type": "markdown",
      "metadata": {
        "id": "c3dfbc16"
      },
      "source": [
        "## Training Data\n",
        "The training data can be represented using 2 matrices (inputs and targets), each with one row per observation and one column for variable."
      ],
      "id": "c3dfbc16"
    },
    {
      "cell_type": "code",
      "metadata": {
        "id": "5889f21b"
      },
      "source": [
        "\n",
        "# Input (temp, rainfall, humidity)\n",
        "inputs = np.array([[73, 67, 43], \n",
        "                   [91, 88, 64], \n",
        "                   [87, 134, 58], \n",
        "                   [102, 43, 37], \n",
        "                   [69, 96, 70]], dtype='float32')\n",
        "\n",
        "# Target (apples)\n",
        "targets = np.array([[56], \n",
        "                    [81], \n",
        "                    [119], \n",
        "                    [22], \n",
        "                    [103]], dtype='float32')"
      ],
      "id": "5889f21b",
      "execution_count": 2,
      "outputs": []
    },
    {
      "cell_type": "markdown",
      "metadata": {
        "id": "549a7607"
      },
      "source": [
        "Before we build a model, we need to convert inputs and targets to PyTorch tensors.\n",
        "\n"
      ],
      "id": "549a7607"
    },
    {
      "cell_type": "code",
      "metadata": {
        "colab": {
          "base_uri": "https://localhost:8080/"
        },
        "id": "d7d230b9",
        "outputId": "f0df7b54-6553-4e54-d53a-dd15f48b9dfb"
      },
      "source": [
        "# Convert inputs and targets to tensors\n",
        "tensor_inputs = torch.tensor(inputs)\n",
        "print(\"tensor inputs:\\n\",tensor_inputs)\n",
        "\n",
        "tensor_targets = torch.tensor(targets)\n",
        "print(\"\\ntensor targets:\\n\",tensor_targets)"
      ],
      "id": "d7d230b9",
      "execution_count": 3,
      "outputs": [
        {
          "output_type": "stream",
          "name": "stdout",
          "text": [
            "tensor inputs:\n",
            " tensor([[ 73.,  67.,  43.],\n",
            "        [ 91.,  88.,  64.],\n",
            "        [ 87., 134.,  58.],\n",
            "        [102.,  43.,  37.],\n",
            "        [ 69.,  96.,  70.]])\n",
            "\n",
            "tensor targets:\n",
            " tensor([[ 56.],\n",
            "        [ 81.],\n",
            "        [119.],\n",
            "        [ 22.],\n",
            "        [103.]])\n"
          ]
        }
      ]
    },
    {
      "cell_type": "markdown",
      "metadata": {
        "id": "080dd13b"
      },
      "source": [
        "## Linear Regression Model (from scratch)\n",
        "\n",
        "The *weights* and *biases* can also be represented as matrices, initialized with random values. The first row of `w` and the first element of `b` are use to predict the first target variable i.e. yield for apples, and similarly the second for oranges."
      ],
      "id": "080dd13b"
    },
    {
      "cell_type": "code",
      "metadata": {
        "colab": {
          "base_uri": "https://localhost:8080/"
        },
        "id": "0d61afd3",
        "outputId": "7ee2b0a3-f29e-4012-ac23-d2ccdeb4a5d9"
      },
      "source": [
        "# Weights and biases\n",
        "weights = torch.randn(1, 3, requires_grad=True)\n",
        "biases = torch.randn(1, requires_grad=True)\n",
        "weights_transpose = torch.transpose(weights, 0, 1)\n",
        "\n",
        "print(\"Weights:\\n\",weights)\n",
        "print(\"\\nBiases:\\n\",biases)\n",
        "print(\"\\nweights_transpose:\\n\",weights_transpose)"
      ],
      "id": "0d61afd3",
      "execution_count": 4,
      "outputs": [
        {
          "output_type": "stream",
          "name": "stdout",
          "text": [
            "Weights:\n",
            " tensor([[-0.5327, -0.7637, -0.9545]], requires_grad=True)\n",
            "\n",
            "Biases:\n",
            " tensor([0.3250], requires_grad=True)\n",
            "\n",
            "weights_transpose:\n",
            " tensor([[-0.5327],\n",
            "        [-0.7637],\n",
            "        [-0.9545]], grad_fn=<TransposeBackward0>)\n"
          ]
        }
      ]
    },
    {
      "cell_type": "markdown",
      "metadata": {
        "id": "0075a625"
      },
      "source": [
        "The *model* is simply a function that performs a matrix multiplication of the input `x` and the weights `w` (transposed) and adds the bias `b` (replicated for each observation).\n",
        "\n",
        "$$\n",
        "\\hspace{2.5cm} X \\hspace{1.1cm} \\times \\hspace{1.2cm} W^T \\hspace{1.2cm}  + \\hspace{1cm} b \\hspace{2cm}\n",
        "$$\n",
        "\n",
        "$$\n",
        "\\left[ \\begin{array}{cc}\n",
        "73 & 67 & 43 \\\\\n",
        "91 & 88 & 64 \\\\\n",
        "\\vdots & \\vdots & \\vdots \\\\\n",
        "69 & 96 & 70\n",
        "\\end{array} \\right]\n",
        "%\n",
        "\\times\n",
        "%\n",
        "\\left[ \\begin{array}{cc}\n",
        "w_{11} & w_{21} \\\\\n",
        "w_{12} & w_{22} \\\\\n",
        "w_{13} & w_{23}\n",
        "\\end{array} \\right]\n",
        "%\n",
        "+\n",
        "%\n",
        "\\left[ \\begin{array}{cc}\n",
        "b_{1} & b_{2} \\\\\n",
        "b_{1} & b_{2} \\\\\n",
        "\\vdots & \\vdots \\\\\n",
        "b_{1} & b_{2} \\\\\n",
        "\\end{array} \\right]\n",
        "$$"
      ],
      "id": "0075a625"
    },
    {
      "cell_type": "code",
      "metadata": {
        "id": "bdde492f"
      },
      "source": [
        "# Define the model\n",
        "def fit(X, W_t, b): \n",
        "    return (X @ W_t) + b"
      ],
      "id": "bdde492f",
      "execution_count": 5,
      "outputs": []
    },
    {
      "cell_type": "markdown",
      "metadata": {
        "id": "19a6d521"
      },
      "source": [
        "The matrix obtained by passing the input data to the model is a set of predictions for the target variables."
      ],
      "id": "19a6d521"
    },
    {
      "cell_type": "code",
      "metadata": {
        "colab": {
          "base_uri": "https://localhost:8080/"
        },
        "id": "24cde1ad",
        "outputId": "b0533494-b012-4d29-ce73-9717d1bc90f6"
      },
      "source": [
        "\n",
        "# Generate predictions\n",
        "prediction = fit(tensor_inputs, weights_transpose, biases)\n",
        "print(prediction)"
      ],
      "id": "24cde1ad",
      "execution_count": 6,
      "outputs": [
        {
          "output_type": "stream",
          "name": "stdout",
          "text": [
            "tensor([[-130.7694],\n",
            "        [-176.4388],\n",
            "        [-203.7116],\n",
            "        [-122.1613],\n",
            "        [-176.5564]], grad_fn=<AddBackward0>)\n"
          ]
        }
      ]
    },
    {
      "cell_type": "code",
      "metadata": {
        "colab": {
          "base_uri": "https://localhost:8080/"
        },
        "id": "978386f2",
        "outputId": "51debcea-c708-49d3-b3c0-7a319bfa5e19"
      },
      "source": [
        "# Compare with targets\n",
        "print(tensor_targets)\n"
      ],
      "id": "978386f2",
      "execution_count": 7,
      "outputs": [
        {
          "output_type": "stream",
          "name": "stdout",
          "text": [
            "tensor([[ 56.],\n",
            "        [ 81.],\n",
            "        [119.],\n",
            "        [ 22.],\n",
            "        [103.]])\n"
          ]
        }
      ]
    },
    {
      "cell_type": "markdown",
      "metadata": {
        "id": "0c28ea58"
      },
      "source": [
        "Because we've started with random weights and biases, the model does not perform a good job of predicting the target varaibles."
      ],
      "id": "0c28ea58"
    },
    {
      "cell_type": "markdown",
      "metadata": {
        "id": "a947a86c"
      },
      "source": [
        "## Loss Function\n",
        "\n",
        "We can compare the predictions with the actual targets, using the following method: \n",
        "* Calculate the difference between the two matrices (`preds` and `targets`).\n",
        "* Square all elements of the difference matrix to remove negative values.\n",
        "* Calculate the average of the elements in the resulting matrix.\n",
        "\n",
        "The result is a single number, known as the **mean squared error** (MSE)."
      ],
      "id": "a947a86c"
    },
    {
      "cell_type": "code",
      "metadata": {
        "id": "fce0fa88"
      },
      "source": [
        "# MSE loss\n",
        "# help(torch.numel)\n",
        "def mse_loss(pred, target):\n",
        "    temp = pred - target\n",
        "    return torch.sum(temp * temp) / temp.numel()"
      ],
      "id": "fce0fa88",
      "execution_count": 8,
      "outputs": []
    },
    {
      "cell_type": "code",
      "metadata": {
        "colab": {
          "base_uri": "https://localhost:8080/"
        },
        "id": "29b52333",
        "outputId": "f7417655-ac37-4668-fe5c-e7dbfebc3cbf"
      },
      "source": [
        "# Compute loss\n",
        "loss = mse_loss(prediction, tensor_targets)\n",
        "print(\"Loss: \", loss)\n"
      ],
      "id": "29b52333",
      "execution_count": 9,
      "outputs": [
        {
          "output_type": "stream",
          "name": "stdout",
          "text": [
            "Loss:  tensor(60846.9297, grad_fn=<DivBackward0>)\n"
          ]
        }
      ]
    },
    {
      "cell_type": "markdown",
      "metadata": {
        "id": "fa725b49"
      },
      "source": [
        "The resulting number is called the **loss**, because it indicates how bad the model is at predicting the target variables. Lower the loss, better the model. "
      ],
      "id": "fa725b49"
    },
    {
      "cell_type": "markdown",
      "metadata": {
        "id": "9e6aeda3"
      },
      "source": [
        "## Compute Gradients\n",
        "\n",
        "With PyTorch, we can automatically compute the gradient or derivative of the `loss` w.r.t. to the weights and biases, because they have `requires_grad` set to `True`.\n",
        "\n",
        "More on autograd:  https://pytorch.org/docs/stable/autograd.html#module-torch.autograd"
      ],
      "id": "9e6aeda3"
    },
    {
      "cell_type": "code",
      "metadata": {
        "id": "dbc473c1"
      },
      "source": [
        "# Compute gradients\n",
        "loss.backward()"
      ],
      "id": "dbc473c1",
      "execution_count": 10,
      "outputs": []
    },
    {
      "cell_type": "markdown",
      "metadata": {
        "id": "2df7dfbb"
      },
      "source": [
        "The gradients are stored in the `.grad` property of the respective tensors."
      ],
      "id": "2df7dfbb"
    },
    {
      "cell_type": "code",
      "metadata": {
        "colab": {
          "base_uri": "https://localhost:8080/"
        },
        "id": "8679a2fc",
        "outputId": "dd778b71-ea3f-464c-80a3-16a1556b1806"
      },
      "source": [
        "# Gradients for weights\n",
        "print(weights, end=\"\\n-------------\\n\")\n",
        "print(weights.grad)"
      ],
      "id": "8679a2fc",
      "execution_count": 11,
      "outputs": [
        {
          "output_type": "stream",
          "name": "stdout",
          "text": [
            "tensor([[-0.5327, -0.7637, -0.9545]], requires_grad=True)\n",
            "-------------\n",
            "tensor([[-39652.3438, -44579.1484, -27250.9453]])\n"
          ]
        }
      ]
    },
    {
      "cell_type": "code",
      "metadata": {
        "colab": {
          "base_uri": "https://localhost:8080/"
        },
        "id": "8fb0e4f5",
        "outputId": "4c4e270a-36e0-4af9-e852-ab1dec907f97"
      },
      "source": [
        "# Gradients for bias\n",
        "print(biases, end=\"\\n-------------\\n\")\n",
        "print(biases.grad)"
      ],
      "id": "8fb0e4f5",
      "execution_count": 12,
      "outputs": [
        {
          "output_type": "stream",
          "name": "stdout",
          "text": [
            "tensor([0.3250], requires_grad=True)\n",
            "-------------\n",
            "tensor([-476.2550])\n"
          ]
        }
      ]
    },
    {
      "cell_type": "markdown",
      "metadata": {
        "id": "9a1f5257"
      },
      "source": [
        "A key insight from calculus is that the gradient indicates the rate of change of the loss, or the slope of the loss function w.r.t. the weights and biases. \n",
        "\n",
        "* If a gradient element is **postive**, \n",
        "    * **increasing** the element's value slightly will **increase** the loss.\n",
        "    * **decreasing** the element's value slightly will **decrease** the loss.\n",
        "\n",
        "\n",
        "\n",
        "\n",
        "* If a gradient element is **negative**,\n",
        "    * **increasing** the element's value slightly will **decrease** the loss.\n",
        "    * **decreasing** the element's value slightly will **increase** the loss.\n",
        "    \n",
        "\n",
        "\n",
        "The increase or decrease is proportional to the value of the gradient."
      ],
      "id": "9a1f5257"
    },
    {
      "cell_type": "markdown",
      "metadata": {
        "id": "deb55abd"
      },
      "source": [
        "Finally, we'll reset the gradients to zero before moving forward, because PyTorch accumulates gradients."
      ],
      "id": "deb55abd"
    },
    {
      "cell_type": "code",
      "metadata": {
        "colab": {
          "base_uri": "https://localhost:8080/"
        },
        "id": "8ab3e393",
        "outputId": "fd4790b6-8622-4525-e23e-5358240a36f0"
      },
      "source": [
        "# help(biases.grad.zero_)\n",
        "weights.grad.zero_()\n",
        "biases.grad.zero_()\n",
        "print(weights.grad,end=\"\\n-------\\n\")\n",
        "print(biases.grad)"
      ],
      "id": "8ab3e393",
      "execution_count": 13,
      "outputs": [
        {
          "output_type": "stream",
          "name": "stdout",
          "text": [
            "tensor([[0., 0., 0.]])\n",
            "-------\n",
            "tensor([0.])\n"
          ]
        }
      ]
    },
    {
      "cell_type": "markdown",
      "metadata": {
        "id": "09fb11b2"
      },
      "source": [
        "## Adjust weights and biases using gradient descent\n",
        "​\n",
        "We'll reduce the loss and improve our model using the gradient descent algorithm, which has the following steps:\n",
        "​\n",
        "1. Generate predictions\n",
        "2. Calculate the loss\n",
        "3. Compute gradients w.r.t the weights and biases\n",
        "4. Adjust the weights by subtracting a small quantity proportional to the gradient\n",
        "5. Reset the gradients to zero"
      ],
      "id": "09fb11b2"
    },
    {
      "cell_type": "code",
      "metadata": {
        "colab": {
          "base_uri": "https://localhost:8080/"
        },
        "id": "ec4a68a0",
        "outputId": "b82bae8e-9096-4a62-f987-4510565b839f"
      },
      "source": [
        "# Generate predictions\n",
        "prediction = fit(tensor_inputs, weights.t(), biases)\n",
        "print(prediction)"
      ],
      "id": "ec4a68a0",
      "execution_count": 14,
      "outputs": [
        {
          "output_type": "stream",
          "name": "stdout",
          "text": [
            "tensor([[-130.7694],\n",
            "        [-176.4388],\n",
            "        [-203.7116],\n",
            "        [-122.1613],\n",
            "        [-176.5564]], grad_fn=<AddBackward0>)\n"
          ]
        }
      ]
    },
    {
      "cell_type": "code",
      "metadata": {
        "colab": {
          "base_uri": "https://localhost:8080/"
        },
        "id": "b235c156",
        "outputId": "4117384d-54df-4008-ab7b-5025b53ef081"
      },
      "source": [
        "# Calculate the loss\n",
        "loss = mse_loss(prediction, tensor_targets)\n",
        "print(loss)"
      ],
      "id": "b235c156",
      "execution_count": 15,
      "outputs": [
        {
          "output_type": "stream",
          "name": "stdout",
          "text": [
            "tensor(60846.9297, grad_fn=<DivBackward0>)\n"
          ]
        }
      ]
    },
    {
      "cell_type": "code",
      "metadata": {
        "id": "931d7252"
      },
      "source": [
        "# Compute gradients\n",
        "loss.backward()"
      ],
      "id": "931d7252",
      "execution_count": 16,
      "outputs": []
    },
    {
      "cell_type": "code",
      "metadata": {
        "id": "f12ace7a"
      },
      "source": [
        "\n",
        "# Adjust weights & reset gradients\n",
        "with torch.no_grad():\n",
        "    weights -= weights.grad * 1e-5\n",
        "    biases -= biases.grad * 1e-5\n",
        "    weights.grad.zero_()\n",
        "    biases.grad.zero_()"
      ],
      "id": "f12ace7a",
      "execution_count": 17,
      "outputs": []
    },
    {
      "cell_type": "code",
      "metadata": {
        "colab": {
          "base_uri": "https://localhost:8080/"
        },
        "id": "164409fd",
        "outputId": "885834a6-1a98-4f80-e3ce-c2cff644cab3"
      },
      "source": [
        "print(biases)\n",
        "print(weights)"
      ],
      "id": "164409fd",
      "execution_count": 24,
      "outputs": [
        {
          "output_type": "stream",
          "name": "stdout",
          "text": [
            "tensor([0.3349], requires_grad=True)\n",
            "tensor([[-0.0188,  0.9150, -0.0023]], requires_grad=True)\n"
          ]
        }
      ]
    },
    {
      "cell_type": "markdown",
      "metadata": {
        "id": "96b887ee"
      },
      "source": [
        "With the new weights and biases, the model should have a lower loss."
      ],
      "id": "96b887ee"
    },
    {
      "cell_type": "code",
      "metadata": {
        "colab": {
          "base_uri": "https://localhost:8080/"
        },
        "id": "26bd008c",
        "outputId": "3e164cb8-5a11-4b01-a97f-a62f543e7972"
      },
      "source": [
        "\n",
        "# Calculate loss\n",
        "prediction = fit(tensor_inputs, weights.t(), biases)\n",
        "loss = mse_loss(prediction, tensor_targets)\n",
        "print(loss)\n",
        "print(biases)\n",
        "print(weights)"
      ],
      "id": "26bd008c",
      "execution_count": 25,
      "outputs": [
        {
          "output_type": "stream",
          "name": "stdout",
          "text": [
            "tensor(107.4359, grad_fn=<DivBackward0>)\n",
            "tensor([0.3349], requires_grad=True)\n",
            "tensor([[-0.0188,  0.9150, -0.0023]], requires_grad=True)\n"
          ]
        }
      ]
    },
    {
      "cell_type": "markdown",
      "metadata": {
        "id": "6a5917b8"
      },
      "source": [
        "## Train for multiple epochs\n",
        "\n",
        "To reduce the loss further, we repeat the process of adjusting the weights and biases using the gradients multiple times. Each iteration is called an epoch."
      ],
      "id": "6a5917b8"
    },
    {
      "cell_type": "code",
      "metadata": {
        "id": "b5f9b6af"
      },
      "source": [
        "# Train for 100 epochs\n",
        "for i in range(1000):\n",
        "    prediction = fit(tensor_inputs, weights.t(), biases)\n",
        "    loss = mse_loss(prediction, tensor_targets)\n",
        "    loss.backward()\n",
        "    with torch.no_grad():\n",
        "        weights -= weights.grad * 1e-5\n",
        "        biases -= biases.grad * 1e-5\n",
        "        weights.grad.zero_()\n",
        "        biases.grad.zero_()"
      ],
      "id": "b5f9b6af",
      "execution_count": 29,
      "outputs": []
    },
    {
      "cell_type": "code",
      "metadata": {
        "colab": {
          "base_uri": "https://localhost:8080/"
        },
        "id": "2409e0d3",
        "outputId": "8c48cdf8-221f-4ee6-b8de-8e8e3a709c6b"
      },
      "source": [
        "# Calculate loss\n",
        "prediction = fit(tensor_inputs, weights.t(), biases)\n",
        "loss = mse_loss(prediction, tensor_targets)\n",
        "print(loss)"
      ],
      "id": "2409e0d3",
      "execution_count": 30,
      "outputs": [
        {
          "output_type": "stream",
          "name": "stdout",
          "text": [
            "tensor(1.8130, grad_fn=<DivBackward0>)\n"
          ]
        }
      ]
    },
    {
      "cell_type": "code",
      "metadata": {
        "colab": {
          "base_uri": "https://localhost:8080/"
        },
        "id": "0ac533e8",
        "outputId": "1a0ad07d-8b22-4cfe-9c61-fe5ce09ab1d7"
      },
      "source": [
        "# Print predictions\n",
        "print(prediction)"
      ],
      "id": "0ac533e8",
      "execution_count": 31,
      "outputs": [
        {
          "output_type": "stream",
          "name": "stdout",
          "text": [
            "tensor([[ 57.2974],\n",
            "        [ 81.5324],\n",
            "        [120.0154],\n",
            "        [ 21.4474],\n",
            "        [100.5996]], grad_fn=<AddBackward0>)\n"
          ]
        }
      ]
    },
    {
      "cell_type": "code",
      "metadata": {
        "colab": {
          "base_uri": "https://localhost:8080/"
        },
        "id": "56bf8d03",
        "outputId": "c456b113-2c9c-463a-9f78-137f5fec3576"
      },
      "source": [
        "# Print targets\n",
        "print(tensor_targets)"
      ],
      "id": "56bf8d03",
      "execution_count": 23,
      "outputs": [
        {
          "output_type": "stream",
          "name": "stdout",
          "text": [
            "tensor([[ 56.],\n",
            "        [ 81.],\n",
            "        [119.],\n",
            "        [ 22.],\n",
            "        [103.]])\n"
          ]
        }
      ]
    },
    {
      "cell_type": "code",
      "metadata": {
        "id": "348b41fc"
      },
      "source": [
        ""
      ],
      "id": "348b41fc",
      "execution_count": null,
      "outputs": []
    }
  ]
}