{
  "nbformat": 4,
  "nbformat_minor": 0,
  "metadata": {
    "colab": {
      "name": "1_logistic_regression.ipynb",
      "provenance": []
    },
    "kernelspec": {
      "display_name": "Python 3 (ipykernel)",
      "language": "python",
      "name": "python3"
    },
    "language_info": {
      "codemirror_mode": {
        "name": "ipython",
        "version": 3
      },
      "file_extension": ".py",
      "mimetype": "text/x-python",
      "name": "python",
      "nbconvert_exporter": "python",
      "pygments_lexer": "ipython3",
      "version": "3.9.7"
    }
  },
  "cells": [
    {
      "cell_type": "markdown",
      "metadata": {
        "id": "view-in-github"
      },
      "source": [
        "<a href=\"https://colab.research.google.com/github/joshi-nitant/083_Nitant_Joshi/blob/master/Lab6/083_logistic_regression.ipynb\" target=\"_parent\"><img src=\"https://colab.research.google.com/assets/colab-badge.svg\" alt=\"Open In Colab\"/></a>"
      ]
    },
    {
      "cell_type": "markdown",
      "metadata": {
        "id": "Y8sYVBu-iSW-"
      },
      "source": [
        "**Exercise:**\n",
        "\n",
        "Try logistic regression on BuyComputer dataset and set Random state=Your_RollNumber (last 3 digit of ID, incase if you don't have ID)"
      ]
    },
    {
      "cell_type": "code",
      "metadata": {
        "_cell_guid": "b1076dfc-b9ad-4769-8c92-a6c4dae69d19",
        "_uuid": "8f2839f25d086af736a60e9eeb907d3b93b6e0e5",
        "colab": {
          "base_uri": "https://localhost:8080/"
        },
        "id": "hfV503AtcBDp",
        "outputId": "afb44bbc-c145-4157-9b63-e240e6ba7d20"
      },
      "source": [
        "#Importing libraries\n",
        "import numpy as np \n",
        "import pandas as pd \n",
        "import io\n",
        "import matplotlib.pyplot as plt\n",
        "from google.colab import drive\n",
        "drive.mount('/content/drive')"
      ],
      "execution_count": 1,
      "outputs": [
        {
          "output_type": "stream",
          "name": "stdout",
          "text": [
            "Mounted at /content/drive\n"
          ]
        }
      ]
    },
    {
      "cell_type": "code",
      "metadata": {
        "_cell_guid": "79c7e3d0-c299-4dcb-8224-4455121ee9b0",
        "_uuid": "d629ff2d2480ee46fbb7e2d37f6b5fab8052498a",
        "colab": {
          "base_uri": "https://localhost:8080/",
          "height": 203
        },
        "id": "Y4rK9ffYcBEP",
        "outputId": "61fe54dd-5e89-4ab9-f33f-6eb18c2d1cb3"
      },
      "source": [
        "data = pd.read_csv('/content/drive/MyDrive/Colab Notebooks/ML LAB 6/Datasets/BuyComputer.csv')\n",
        "\n",
        "data.drop(columns=['User ID',],axis=1,inplace=True)\n",
        "data.head()"
      ],
      "execution_count": 2,
      "outputs": [
        {
          "output_type": "execute_result",
          "data": {
            "text/html": [
              "<div>\n",
              "<style scoped>\n",
              "    .dataframe tbody tr th:only-of-type {\n",
              "        vertical-align: middle;\n",
              "    }\n",
              "\n",
              "    .dataframe tbody tr th {\n",
              "        vertical-align: top;\n",
              "    }\n",
              "\n",
              "    .dataframe thead th {\n",
              "        text-align: right;\n",
              "    }\n",
              "</style>\n",
              "<table border=\"1\" class=\"dataframe\">\n",
              "  <thead>\n",
              "    <tr style=\"text-align: right;\">\n",
              "      <th></th>\n",
              "      <th>Age</th>\n",
              "      <th>EstimatedSalary</th>\n",
              "      <th>Purchased</th>\n",
              "    </tr>\n",
              "  </thead>\n",
              "  <tbody>\n",
              "    <tr>\n",
              "      <th>0</th>\n",
              "      <td>19</td>\n",
              "      <td>19000</td>\n",
              "      <td>0</td>\n",
              "    </tr>\n",
              "    <tr>\n",
              "      <th>1</th>\n",
              "      <td>35</td>\n",
              "      <td>20000</td>\n",
              "      <td>0</td>\n",
              "    </tr>\n",
              "    <tr>\n",
              "      <th>2</th>\n",
              "      <td>26</td>\n",
              "      <td>43000</td>\n",
              "      <td>0</td>\n",
              "    </tr>\n",
              "    <tr>\n",
              "      <th>3</th>\n",
              "      <td>27</td>\n",
              "      <td>57000</td>\n",
              "      <td>0</td>\n",
              "    </tr>\n",
              "    <tr>\n",
              "      <th>4</th>\n",
              "      <td>19</td>\n",
              "      <td>76000</td>\n",
              "      <td>0</td>\n",
              "    </tr>\n",
              "  </tbody>\n",
              "</table>\n",
              "</div>"
            ],
            "text/plain": [
              "   Age  EstimatedSalary  Purchased\n",
              "0   19            19000          0\n",
              "1   35            20000          0\n",
              "2   26            43000          0\n",
              "3   27            57000          0\n",
              "4   19            76000          0"
            ]
          },
          "metadata": {},
          "execution_count": 2
        }
      ]
    },
    {
      "cell_type": "code",
      "metadata": {
        "_uuid": "4cb45e28344e7e245ab398e9f4f5272ef21d2129",
        "id": "jwuPgU6_cBE8"
      },
      "source": [
        "#Declare label as last column in the source file\n",
        "label = data.iloc[:,-1].values\n"
      ],
      "execution_count": 3,
      "outputs": []
    },
    {
      "cell_type": "code",
      "metadata": {
        "_uuid": "2e7a145fa49435ad9578ec2827f76a70cc99f2e1",
        "id": "2lhBrOp8cBFX"
      },
      "source": [
        "#Declaring X as all columns excluding last\n",
        "X = data.iloc[:,:-1].values"
      ],
      "execution_count": 4,
      "outputs": []
    },
    {
      "cell_type": "code",
      "metadata": {
        "_uuid": "dffb1f3e19e19964995ac827bf55108b5815ff67",
        "id": "t8nwbTn6cBFp"
      },
      "source": [
        "# Splitting data\n",
        "from sklearn.model_selection import train_test_split\n",
        "X_train, X_test, y_train, y_test = train_test_split(X, label, test_size = 0.25, random_state = 92) # roll no 92"
      ],
      "execution_count": 5,
      "outputs": []
    },
    {
      "cell_type": "code",
      "metadata": {
        "_uuid": "7d4ed14782e114ae3282f20d3754121398e6d232",
        "id": "U4bUiVVFcBGD"
      },
      "source": [
        "# Sacaling data\n",
        "from sklearn.preprocessing import StandardScaler\n",
        "sc = StandardScaler()\n",
        "X_train = sc.fit_transform(X_train)\n",
        "X_test = sc.transform(X_test)"
      ],
      "execution_count": 6,
      "outputs": []
    },
    {
      "cell_type": "code",
      "metadata": {
        "_uuid": "2ff7415e3e0e0673d59051cfe6154c63d3312a32",
        "colab": {
          "base_uri": "https://localhost:8080/"
        },
        "id": "W5yGgzqbcBGc",
        "outputId": "d1f76df8-5361-4761-ffcf-0bd724caded0"
      },
      "source": [
        "#Variabes to calculate sigmoid function\n",
        "y_pred = []\n",
        "len_x = len(X_train[0])\n",
        "w = []\n",
        "b = 0.2\n",
        "print(len_x)"
      ],
      "execution_count": 7,
      "outputs": [
        {
          "output_type": "stream",
          "name": "stdout",
          "text": [
            "2\n"
          ]
        }
      ]
    },
    {
      "cell_type": "code",
      "metadata": {
        "_uuid": "a228174207f4631be4f26a0cc05e379f3f58aa56",
        "colab": {
          "base_uri": "https://localhost:8080/"
        },
        "id": "ZbqwTM0bcBGr",
        "outputId": "1216ad7b-860b-49cb-f6c9-14e04b4f16df"
      },
      "source": [
        "entries = len(X_train[:,0])\n",
        "entries"
      ],
      "execution_count": 8,
      "outputs": [
        {
          "output_type": "execute_result",
          "data": {
            "text/plain": [
              "300"
            ]
          },
          "metadata": {},
          "execution_count": 8
        }
      ]
    },
    {
      "cell_type": "code",
      "metadata": {
        "_uuid": "5d4d6e47ee65c9c7404e60fcf8f05c11708546b3",
        "colab": {
          "base_uri": "https://localhost:8080/"
        },
        "id": "vEV7Nn73cBG7",
        "outputId": "afb500f0-309b-40c6-c29e-cb85bf78cfc5"
      },
      "source": [
        "for weights in range(len_x):\n",
        "    w.append(0)\n",
        "w"
      ],
      "execution_count": 9,
      "outputs": [
        {
          "output_type": "execute_result",
          "data": {
            "text/plain": [
              "[0, 0]"
            ]
          },
          "metadata": {},
          "execution_count": 9
        }
      ]
    },
    {
      "cell_type": "code",
      "metadata": {
        "_uuid": "18dbd2196d72527a82d30ab88ed2aa8d10bd01ce",
        "id": "_fAtpylNcBHM"
      },
      "source": [
        "# Sigmoid function\n",
        "def sigmoid(z):\n",
        "  return (1 / (1 + np.exp(-z)))"
      ],
      "execution_count": 10,
      "outputs": []
    },
    {
      "cell_type": "code",
      "metadata": {
        "_uuid": "daa0f87fdbf98591cb9f51b8dc7157dc399ca827",
        "id": "kfchkScTcBHd"
      },
      "source": [
        "def predict(inputs):\n",
        "    z = np.dot(w,inputs) + b\n",
        "    temp = sigmoid(z)\n",
        "    return temp"
      ],
      "execution_count": 11,
      "outputs": []
    },
    {
      "cell_type": "code",
      "metadata": {
        "_uuid": "4126f842d072ccd40019cc283b767a014e2ee074",
        "id": "K2ryTgglcBHt"
      },
      "source": [
        "#Loss function\n",
        "def loss_func(y,a):\n",
        "    J = -(y * np.log(a) + (1-y) * np.log(1-a))\n",
        "    return J    "
      ],
      "execution_count": 12,
      "outputs": []
    },
    {
      "cell_type": "code",
      "metadata": {
        "_uuid": "fc0ceb65c69f4ee0c3f28e050744229dc90c621b",
        "id": "1KW3eDpmcBIA"
      },
      "source": [
        "dw = []\n",
        "db = 0\n",
        "J = 0\n",
        "alpha = 0.1\n",
        "for x in range(len_x):\n",
        "    dw.append(0)"
      ],
      "execution_count": 13,
      "outputs": []
    },
    {
      "cell_type": "code",
      "metadata": {
        "_uuid": "e4be38e9b500ae0c5a7134296a3055675c4fb2d8",
        "id": "ipqdFLP3cBIO"
      },
      "source": [
        "#Repeating the process 3000 times\n",
        "for iterations in range(3000):\n",
        "    for i in range(entries):\n",
        "        localx = X_train[i]\n",
        "        a = predict(localx)   \n",
        "        dz = a - y_train[i]\n",
        "        J += loss_func(y_train[i],a)\n",
        "\n",
        "        for j in range(len_x):\n",
        "            dw[j] = dw[j] + (localx[j] * dz)\n",
        "\n",
        "        db += dz\n",
        "    J = J / entries\n",
        "    db = db / entries\n",
        "\n",
        "    for x in range(len_x):\n",
        "        dw[x] = dw[x] / entries\n",
        "\n",
        "    for x in range(len_x):\n",
        "        w[x] = w[x] - (alpha * dw[x])\n",
        "    b = b - (alpha * db)         \n",
        "    J=0\n"
      ],
      "execution_count": 14,
      "outputs": []
    },
    {
      "cell_type": "code",
      "metadata": {
        "_uuid": "5479ccb6073ed1ea310ef7de01b2935fc3ec400e",
        "colab": {
          "base_uri": "https://localhost:8080/"
        },
        "id": "7Q585AdrcBIs",
        "outputId": "62fbe20e-22c5-4261-e31b-874b2471b1f7"
      },
      "source": [
        "#Print weight\n",
        "w"
      ],
      "execution_count": 15,
      "outputs": [
        {
          "output_type": "execute_result",
          "data": {
            "text/plain": [
              "[2.544575071081807, 1.0354043635250203]"
            ]
          },
          "metadata": {},
          "execution_count": 15
        }
      ]
    },
    {
      "cell_type": "code",
      "metadata": {
        "_uuid": "a939c247b8a092f74c9843975612daa85c423621",
        "colab": {
          "base_uri": "https://localhost:8080/"
        },
        "id": "rEiF-bNHcBJB",
        "outputId": "aa8c0aec-780f-4a21-f5c9-9a2003d44cf0"
      },
      "source": [
        "#print bias\n",
        "b"
      ],
      "execution_count": 16,
      "outputs": [
        {
          "output_type": "execute_result",
          "data": {
            "text/plain": [
              "-1.2508301252098781"
            ]
          },
          "metadata": {},
          "execution_count": 16
        }
      ]
    },
    {
      "cell_type": "code",
      "metadata": {
        "_uuid": "b7ae24169a21c7ac8ea0787f4a38a0de3e07a6b5",
        "id": "MPt5nUcpcBJR"
      },
      "source": [
        "#predicting the label\n",
        "for x in range(len(y_test)):\n",
        "    y_pred.append(predict(X_test[x]))"
      ],
      "execution_count": 17,
      "outputs": []
    },
    {
      "cell_type": "code",
      "metadata": {
        "_uuid": "967ad1b72305ad792a5d50e4d8b8a07632f7b241",
        "colab": {
          "base_uri": "https://localhost:8080/"
        },
        "id": "79HPPz7jcBJg",
        "scrolled": false,
        "outputId": "d249ff34-0086-45cb-f960-555e9369ebfa"
      },
      "source": [
        "#print actual and predicted values in a table\n",
        "print(\"Actual\\t\\tPredicted\")\n",
        "for x in range(len(y_pred)):\n",
        "    print(y_test[x] ,y_pred[x], sep=\"\\t\\t\")\n",
        "    if y_pred[x]>=0.5:\n",
        "        y_pred[x]=1\n",
        "    else:\n",
        "        y_pred[x]=0"
      ],
      "execution_count": 18,
      "outputs": [
        {
          "output_type": "stream",
          "name": "stdout",
          "text": [
            "Actual\t\tPredicted\n",
            "1\t\t0.46347684248063126\n",
            "0\t\t0.0030862679385659344\n",
            "0\t\t0.0024029475594983204\n",
            "1\t\t0.9764987207127666\n",
            "1\t\t0.2784157489357136\n",
            "0\t\t0.2908126253552335\n",
            "0\t\t0.009620275892674524\n",
            "0\t\t0.0009219977120975216\n",
            "0\t\t0.004529683378973565\n",
            "0\t\t0.2788729804205062\n",
            "1\t\t0.962465592892123\n",
            "1\t\t0.9547462684714692\n",
            "1\t\t0.6316198782039317\n",
            "1\t\t0.3681404430650227\n",
            "0\t\t0.13875811034774171\n",
            "0\t\t0.25331161061398283\n",
            "0\t\t0.016919294415550103\n",
            "0\t\t0.6309806195082307\n",
            "1\t\t0.7595242425811463\n",
            "0\t\t0.029735229995885317\n",
            "0\t\t0.06540225573591846\n",
            "0\t\t0.005425442529651188\n",
            "0\t\t0.02794028785388406\n",
            "0\t\t0.2624264444097056\n",
            "1\t\t0.14353311076785125\n",
            "0\t\t0.9623662505530609\n",
            "0\t\t0.3865380974974288\n",
            "1\t\t0.9353983799068116\n",
            "0\t\t0.004201381061435519\n",
            "1\t\t0.9515154200500581\n",
            "1\t\t0.94637173811251\n",
            "1\t\t0.8973465441323097\n",
            "1\t\t0.573576918631887\n",
            "0\t\t0.09490220290887733\n",
            "1\t\t0.1570331456680123\n",
            "1\t\t0.32776034431102885\n",
            "0\t\t0.24137814308501143\n",
            "1\t\t0.4737349707518562\n",
            "0\t\t0.008615944410414862\n",
            "0\t\t0.4166813296569179\n",
            "1\t\t0.22934803194945289\n",
            "0\t\t0.15118245008242778\n",
            "0\t\t0.025071812499799423\n",
            "1\t\t0.9694315654382075\n",
            "0\t\t0.038518577151326124\n",
            "0\t\t0.03811377899926538\n",
            "1\t\t0.9092916521622026\n",
            "1\t\t0.9978126793255898\n",
            "0\t\t0.364951993646784\n",
            "1\t\t0.9780543053740632\n",
            "0\t\t0.1390866458130653\n",
            "0\t\t0.42482839363778035\n",
            "0\t\t0.4241574454709922\n",
            "0\t\t0.0063886817814100706\n",
            "1\t\t0.9949783975908191\n",
            "1\t\t0.04546740012492174\n",
            "0\t\t0.13941583322727846\n",
            "0\t\t0.4241574454709922\n",
            "0\t\t0.5086298181227381\n",
            "1\t\t0.9824587445362835\n",
            "0\t\t0.15408508820480463\n",
            "0\t\t0.019241291551598604\n",
            "1\t\t0.12323944831754358\n",
            "0\t\t0.36039931656902824\n",
            "1\t\t0.5177848845201494\n",
            "1\t\t0.8743054171818753\n",
            "0\t\t0.025546048320007623\n",
            "0\t\t0.061432427848787205\n",
            "1\t\t0.9737228881732417\n",
            "0\t\t0.006129545894630393\n",
            "1\t\t0.9050092672884048\n",
            "0\t\t0.05529654174605719\n",
            "0\t\t0.8508491777778165\n",
            "0\t\t0.003740096964155316\n",
            "1\t\t0.5585046235838176\n",
            "0\t\t0.14246558472806045\n",
            "0\t\t0.10812638916198555\n",
            "0\t\t0.3030486321653879\n",
            "1\t\t0.9878617822795469\n",
            "1\t\t0.9747798452934262\n",
            "1\t\t0.7159196484821981\n",
            "1\t\t0.6949899856303039\n",
            "0\t\t0.0016549397875376363\n",
            "0\t\t0.012230662080648269\n",
            "0\t\t0.08487155183449502\n",
            "0\t\t0.19975104738880964\n",
            "1\t\t0.9905559542768061\n",
            "0\t\t0.008335045814698917\n",
            "0\t\t0.0041784629253549385\n",
            "0\t\t0.02316487069683028\n",
            "1\t\t0.3616664514608523\n",
            "0\t\t0.5729050447055463\n",
            "0\t\t0.0030862679385659344\n",
            "0\t\t0.01515758978827922\n",
            "0\t\t0.017922412420960376\n",
            "0\t\t0.0019779131112371666\n",
            "1\t\t0.6752390584283817\n",
            "0\t\t0.4241574454709922\n",
            "0\t\t0.1147447354806106\n",
            "1\t\t0.7131185642315361\n"
          ]
        }
      ]
    },
    {
      "cell_type": "code",
      "metadata": {
        "_uuid": "a59807150900082ab876ef0200c6c7f8f93e098c",
        "colab": {
          "base_uri": "https://localhost:8080/"
        },
        "id": "sdZDj_iVcBJt",
        "outputId": "d67fd696-583c-4592-dac7-cdc8806abbd8"
      },
      "source": [
        "# Calculating accuracy of prediction\n",
        "count = 0\n",
        "for x in range(len(y_pred)):\n",
        "    if(y_pred[x] == y_test[x]):\n",
        "        count += 1\n",
        "\n",
        "print('Accuracy:',(count / (len(y_pred))) * 100)"
      ],
      "execution_count": 19,
      "outputs": [
        {
          "output_type": "stream",
          "name": "stdout",
          "text": [
            "Accuracy: 84.0\n"
          ]
        }
      ]
    },
    {
      "cell_type": "markdown",
      "metadata": {
        "id": "x6nmajpzhAEn"
      },
      "source": [
        "## Using sklearn LogisticRegression model##"
      ]
    },
    {
      "cell_type": "code",
      "metadata": {
        "_kg_hide-output": true,
        "_uuid": "9aaade066015e04f20dd7eb1d37339be75ca3836",
        "colab": {
          "base_uri": "https://localhost:8080/"
        },
        "id": "iG-BK4i9cBKH",
        "outputId": "84b70fd2-f8b3-489d-c4f3-c455dfdf961c"
      },
      "source": [
        "# Fitting Logistic Regression to the Training set\n",
        "from sklearn.linear_model import LogisticRegression\n",
        "LR = LogisticRegression(random_state = 92) # roll no 92\n",
        "#Fit\n",
        "LR.fit(X_train,y_train)\n",
        "\n",
        "#predicting the test label with LR. Predict always takes X as input\n",
        "y_predict = LR.predict(X_test)\n",
        "\n",
        "from sklearn.metrics import accuracy_score\n",
        "print('Accuracy:', accuracy_score(y_predict,y_test))\n"
      ],
      "execution_count": 20,
      "outputs": [
        {
          "output_type": "stream",
          "name": "stdout",
          "text": [
            "Accuracy: 0.85\n"
          ]
        }
      ]
    },
    {
      "cell_type": "code",
      "metadata": {
        "id": "w52r4G48GVcE"
      },
      "source": [
        ""
      ],
      "execution_count": null,
      "outputs": []
    }
  ]
}