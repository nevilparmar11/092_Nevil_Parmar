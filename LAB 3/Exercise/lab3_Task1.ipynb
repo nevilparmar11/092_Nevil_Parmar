{
  "nbformat": 4,
  "nbformat_minor": 5,
  "metadata": {
    "kernelspec": {
      "display_name": "Python 3",
      "language": "python",
      "name": "python3"
    },
    "language_info": {
      "codemirror_mode": {
        "name": "ipython",
        "version": 3
      },
      "file_extension": ".py",
      "mimetype": "text/x-python",
      "name": "python",
      "nbconvert_exporter": "python",
      "pygments_lexer": "ipython3",
      "version": "3.6.9"
    },
    "colab": {
      "name": "lab3_Task1.ipynb",
      "provenance": []
    }
  },
  "cells": [
    {
      "cell_type": "markdown",
      "metadata": {
        "id": "609170dd"
      },
      "source": [
        "Task 1: Try the algo on Dataset2 - OneHotEncoding of features and Train test Division 75%-25%"
      ],
      "id": "609170dd"
    },
    {
      "cell_type": "code",
      "metadata": {
        "colab": {
          "base_uri": "https://localhost:8080/"
        },
        "id": "-_knoRGhe8VY",
        "outputId": "552ed0b5-1575-40c8-e203-2fb0a1598bc2"
      },
      "source": [
        "from google.colab import drive\n",
        "drive.mount('/content/drive')"
      ],
      "id": "-_knoRGhe8VY",
      "execution_count": 1,
      "outputs": [
        {
          "output_type": "stream",
          "name": "stdout",
          "text": [
            "Mounted at /content/drive\n"
          ]
        }
      ]
    },
    {
      "cell_type": "code",
      "metadata": {
        "colab": {
          "base_uri": "https://localhost:8080/"
        },
        "id": "c3c9d007",
        "outputId": "448bc7af-b8d1-4eaa-a0e9-c25c499d1809"
      },
      "source": [
        "import numpy as np \n",
        "import pandas as pd\n",
        "from sklearn.preprocessing import LabelEncoder,OneHotEncoder\n",
        "\n",
        "data = pd.read_csv(\"/content/drive/MyDrive/Colab Notebooks/ML LAB 3/Datasets/Dataset2.csv\")\n",
        "print(data)"
      ],
      "id": "c3c9d007",
      "execution_count": 2,
      "outputs": [
        {
          "output_type": "stream",
          "name": "stdout",
          "text": [
            "   Outlook Temp Wind Humidity Class\n",
            "0        R    H    F   Normal     N\n",
            "1        R    H    T     High     N\n",
            "2        O    H    F   Normal     Y\n",
            "3        S    M    F   Normal     N\n",
            "4        S    M    F   Normal     Y\n",
            "5        S    M    T      Low     Y\n",
            "6        O    C    T   Normal     Y\n",
            "7        R    C    F   Normal     Y\n",
            "8        R    C    F      Low     Y\n",
            "9        S    M    F     High     Y\n",
            "10       R    M    T     High     Y\n",
            "11       O    M    T      Low     Y\n",
            "12       O    H    F   Normal     Y\n",
            "13       S    M    T   Normal     N\n"
          ]
        }
      ]
    },
    {
      "cell_type": "code",
      "metadata": {
        "colab": {
          "base_uri": "https://localhost:8080/"
        },
        "id": "518557d9",
        "outputId": "f5878a09-5c55-4797-a51f-695ba6edd696"
      },
      "source": [
        "dummy_humidity = pd.get_dummies(data['Humidity'])\n",
        "data = data.drop(['Humidity'],axis=1)\n",
        "data = pd.concat([dummy_humidity,data],axis=1)\n",
        "\n",
        "dummy_wind = pd.get_dummies(data['Wind'])\n",
        "data = data.drop(['Wind'],axis=1)\n",
        "data = pd.concat([dummy_wind,data],axis=1)\n",
        "\n",
        "dummy_temp = pd.get_dummies(data['Temp'])\n",
        "data = data.drop(['Temp'],axis=1)\n",
        "data = pd.concat([dummy_temp,data],axis=1)\n",
        "\n",
        "dummy_outlook = pd.get_dummies(data['Outlook'])\n",
        "data = data.drop(['Outlook'],axis=1)\n",
        "data = pd.concat([dummy_outlook,data],axis=1)\n",
        "\n",
        "print(\"\\n\\nFinal Data :\\n\",data)"
      ],
      "id": "518557d9",
      "execution_count": 3,
      "outputs": [
        {
          "output_type": "stream",
          "name": "stdout",
          "text": [
            "\n",
            "\n",
            "Final Data :\n",
            "     O  R  S  C  H  M  F  T  High  Low  Normal Class\n",
            "0   0  1  0  0  1  0  1  0     0    0       1     N\n",
            "1   0  1  0  0  1  0  0  1     1    0       0     N\n",
            "2   1  0  0  0  1  0  1  0     0    0       1     Y\n",
            "3   0  0  1  0  0  1  1  0     0    0       1     N\n",
            "4   0  0  1  0  0  1  1  0     0    0       1     Y\n",
            "5   0  0  1  0  0  1  0  1     0    1       0     Y\n",
            "6   1  0  0  1  0  0  0  1     0    0       1     Y\n",
            "7   0  1  0  1  0  0  1  0     0    0       1     Y\n",
            "8   0  1  0  1  0  0  1  0     0    1       0     Y\n",
            "9   0  0  1  0  0  1  1  0     1    0       0     Y\n",
            "10  0  1  0  0  0  1  0  1     1    0       0     Y\n",
            "11  1  0  0  0  0  1  0  1     0    1       0     Y\n",
            "12  1  0  0  0  1  0  1  0     0    0       1     Y\n",
            "13  0  0  1  0  0  1  0  1     0    0       1     N\n"
          ]
        }
      ]
    },
    {
      "cell_type": "code",
      "metadata": {
        "colab": {
          "base_uri": "https://localhost:8080/"
        },
        "id": "11ca5449",
        "outputId": "2d287855-cfe7-47d6-cf43-285a70c89b8c"
      },
      "source": [
        "X = data.iloc[:, :-1] \n",
        "\n",
        "Y = data.iloc[:, -1] \n",
        "\n",
        "\n",
        "print(\"\\n\\nData : \\n\", X) \n",
        "print(\"\\n\\nTarget: \\n\", Y) "
      ],
      "id": "11ca5449",
      "execution_count": 4,
      "outputs": [
        {
          "output_type": "stream",
          "name": "stdout",
          "text": [
            "\n",
            "\n",
            "Data : \n",
            "     O  R  S  C  H  M  F  T  High  Low  Normal\n",
            "0   0  1  0  0  1  0  1  0     0    0       1\n",
            "1   0  1  0  0  1  0  0  1     1    0       0\n",
            "2   1  0  0  0  1  0  1  0     0    0       1\n",
            "3   0  0  1  0  0  1  1  0     0    0       1\n",
            "4   0  0  1  0  0  1  1  0     0    0       1\n",
            "5   0  0  1  0  0  1  0  1     0    1       0\n",
            "6   1  0  0  1  0  0  0  1     0    0       1\n",
            "7   0  1  0  1  0  0  1  0     0    0       1\n",
            "8   0  1  0  1  0  0  1  0     0    1       0\n",
            "9   0  0  1  0  0  1  1  0     1    0       0\n",
            "10  0  1  0  0  0  1  0  1     1    0       0\n",
            "11  1  0  0  0  0  1  0  1     0    1       0\n",
            "12  1  0  0  0  1  0  1  0     0    0       1\n",
            "13  0  0  1  0  0  1  0  1     0    0       1\n",
            "\n",
            "\n",
            "Target: \n",
            " 0     N\n",
            "1     N\n",
            "2     Y\n",
            "3     N\n",
            "4     Y\n",
            "5     Y\n",
            "6     Y\n",
            "7     Y\n",
            "8     Y\n",
            "9     Y\n",
            "10    Y\n",
            "11    Y\n",
            "12    Y\n",
            "13    N\n",
            "Name: Class, dtype: object\n"
          ]
        }
      ]
    },
    {
      "cell_type": "code",
      "metadata": {
        "id": "b7beaee4"
      },
      "source": [
        "from sklearn.model_selection import train_test_split\n",
        "\n",
        "#split data set into train and test sets\n",
        "data_train, data_test, target_train, target_test = train_test_split(X,Y, test_size = 0.25, random_state = 6)"
      ],
      "id": "b7beaee4",
      "execution_count": 14,
      "outputs": []
    },
    {
      "cell_type": "code",
      "metadata": {
        "id": "c6be87a5"
      },
      "source": [
        "import numpy as np\n",
        "from sklearn.naive_bayes import GaussianNB\n",
        "\n",
        "gnb = GaussianNB()\n",
        "\n",
        "#Train the model using the training sets\n",
        "gnb.fit(data_train, target_train)\n",
        "\n",
        "#Predict the response for test dataset\n",
        "target_pred = gnb.predict(data_test)"
      ],
      "id": "c6be87a5",
      "execution_count": 15,
      "outputs": []
    },
    {
      "cell_type": "code",
      "metadata": {
        "colab": {
          "base_uri": "https://localhost:8080/"
        },
        "id": "c43e87a7",
        "outputId": "14143048-e262-4291-b044-d617cf7d0e75"
      },
      "source": [
        "#Import scikit-learn metrics module for accuracy calculation\n",
        "from sklearn import metrics\n",
        "\n",
        "# Model Accuracy, how often is the classifier correct?\n",
        "print(\"Accuracy:\",metrics.accuracy_score(target_test, target_pred))"
      ],
      "id": "c43e87a7",
      "execution_count": 16,
      "outputs": [
        {
          "output_type": "stream",
          "name": "stdout",
          "text": [
            "Accuracy: 1.0\n"
          ]
        }
      ]
    },
    {
      "cell_type": "code",
      "metadata": {
        "colab": {
          "base_uri": "https://localhost:8080/"
        },
        "id": "fa093770",
        "outputId": "749152dd-a7c1-4d8d-a8b7-3c73d02def10"
      },
      "source": [
        "#Import confusion_matrix from scikit-learn metrics module for confusion_matrix\n",
        "from sklearn.metrics import confusion_matrix\n",
        "confusion_matrix(target_test, target_pred)"
      ],
      "id": "fa093770",
      "execution_count": 9,
      "outputs": [
        {
          "output_type": "execute_result",
          "data": {
            "text/plain": [
              "array([[1, 0],\n",
              "       [1, 2]])"
            ]
          },
          "metadata": {},
          "execution_count": 9
        }
      ]
    },
    {
      "cell_type": "code",
      "metadata": {
        "colab": {
          "base_uri": "https://localhost:8080/"
        },
        "id": "6716d781",
        "outputId": "a9399624-e716-4e0e-f37a-8a23ae4cba97"
      },
      "source": [
        "from sklearn.metrics import precision_score\n",
        "from sklearn.metrics import recall_score\n",
        "\n",
        "precision = precision_score(target_test, target_pred, average=None)\n",
        "recall = recall_score(target_test, target_pred, average=None)\n",
        "\n",
        "print('precision: {}'.format(precision))\n",
        "print('recall: {}'.format(recall))"
      ],
      "id": "6716d781",
      "execution_count": 10,
      "outputs": [
        {
          "output_type": "stream",
          "name": "stdout",
          "text": [
            "precision: [0.5 1. ]\n",
            "recall: [1.         0.66666667]\n"
          ]
        }
      ]
    },
    {
      "cell_type": "code",
      "metadata": {
        "id": "821d8452"
      },
      "source": [
        "q1 = [0, 1, 0, 0, 0, 1, 1, 0, 0, 0, 1]\n",
        "q2 = [0, 0, 1, 1, 0, 0, 0, 1, 1, 0, 0]"
      ],
      "id": "821d8452",
      "execution_count": 11,
      "outputs": []
    },
    {
      "cell_type": "code",
      "metadata": {
        "colab": {
          "base_uri": "https://localhost:8080/",
          "height": 127
        },
        "id": "76f45bd3",
        "outputId": "19765b85-329e-44e8-9752-40eb5ac828ce"
      },
      "source": [
        "features = X.columns.tolist()\n",
        "print(features)\n",
        "df = pd.DataFrame([q1,q2], columns = features)\n",
        "df.head()"
      ],
      "id": "76f45bd3",
      "execution_count": 12,
      "outputs": [
        {
          "output_type": "stream",
          "name": "stdout",
          "text": [
            "['O', 'R', 'S', 'C', 'H', 'M', 'F', 'T', 'High', 'Low', 'Normal']\n"
          ]
        },
        {
          "output_type": "execute_result",
          "data": {
            "text/html": [
              "<div>\n",
              "<style scoped>\n",
              "    .dataframe tbody tr th:only-of-type {\n",
              "        vertical-align: middle;\n",
              "    }\n",
              "\n",
              "    .dataframe tbody tr th {\n",
              "        vertical-align: top;\n",
              "    }\n",
              "\n",
              "    .dataframe thead th {\n",
              "        text-align: right;\n",
              "    }\n",
              "</style>\n",
              "<table border=\"1\" class=\"dataframe\">\n",
              "  <thead>\n",
              "    <tr style=\"text-align: right;\">\n",
              "      <th></th>\n",
              "      <th>O</th>\n",
              "      <th>R</th>\n",
              "      <th>S</th>\n",
              "      <th>C</th>\n",
              "      <th>H</th>\n",
              "      <th>M</th>\n",
              "      <th>F</th>\n",
              "      <th>T</th>\n",
              "      <th>High</th>\n",
              "      <th>Low</th>\n",
              "      <th>Normal</th>\n",
              "    </tr>\n",
              "  </thead>\n",
              "  <tbody>\n",
              "    <tr>\n",
              "      <th>0</th>\n",
              "      <td>0</td>\n",
              "      <td>1</td>\n",
              "      <td>0</td>\n",
              "      <td>0</td>\n",
              "      <td>0</td>\n",
              "      <td>1</td>\n",
              "      <td>1</td>\n",
              "      <td>0</td>\n",
              "      <td>0</td>\n",
              "      <td>0</td>\n",
              "      <td>1</td>\n",
              "    </tr>\n",
              "    <tr>\n",
              "      <th>1</th>\n",
              "      <td>0</td>\n",
              "      <td>0</td>\n",
              "      <td>1</td>\n",
              "      <td>1</td>\n",
              "      <td>0</td>\n",
              "      <td>0</td>\n",
              "      <td>0</td>\n",
              "      <td>1</td>\n",
              "      <td>1</td>\n",
              "      <td>0</td>\n",
              "      <td>0</td>\n",
              "    </tr>\n",
              "  </tbody>\n",
              "</table>\n",
              "</div>"
            ],
            "text/plain": [
              "   O  R  S  C  H  M  F  T  High  Low  Normal\n",
              "0  0  1  0  0  0  1  1  0     0    0       1\n",
              "1  0  0  1  1  0  0  0  1     1    0       0"
            ]
          },
          "metadata": {},
          "execution_count": 12
        }
      ]
    },
    {
      "cell_type": "code",
      "metadata": {
        "colab": {
          "base_uri": "https://localhost:8080/"
        },
        "id": "5084bfdc",
        "outputId": "015dfa99-4be2-4c9f-c36a-801555cac4fe"
      },
      "source": [
        "output = gnb.predict(df)\n",
        "print(\"Class predicted:\\nq1: {}\\nq2: {}\".format(output[0],output[1]))"
      ],
      "id": "5084bfdc",
      "execution_count": 13,
      "outputs": [
        {
          "output_type": "stream",
          "name": "stdout",
          "text": [
            "Class predicted:\n",
            "q1: N\n",
            "q2: Y\n"
          ]
        }
      ]
    },
    {
      "cell_type": "code",
      "metadata": {
        "id": "d31c7572"
      },
      "source": [
        ""
      ],
      "id": "d31c7572",
      "execution_count": null,
      "outputs": []
    }
  ]
}